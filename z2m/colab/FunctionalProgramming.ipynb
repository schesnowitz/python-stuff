{
  "nbformat": 4,
  "nbformat_minor": 0,
  "metadata": {
    "colab": {
      "provenance": []
    },
    "kernelspec": {
      "name": "python3",
      "display_name": "Python 3"
    },
    "language_info": {
      "name": "python"
    }
  },
  "cells": [
    {
      "cell_type": "markdown",
      "source": [
        "map()"
      ],
      "metadata": {
        "id": "hjMAE-af4KIU"
      }
    },
    {
      "cell_type": "code",
      "execution_count": null,
      "metadata": {
        "colab": {
          "base_uri": "https://localhost:8080/"
        },
        "id": "kkh3jxA41eyQ",
        "outputId": "9ed98a4e-d8bb-4fe9-8fca-698e67ee86d3"
      },
      "outputs": [
        {
          "output_type": "stream",
          "name": "stdout",
          "text": [
            "[4, 8, 12]\n",
            "[4, 8, 12]\n"
          ]
        }
      ],
      "source": [
        "def mult_by_2(lst):\n",
        "    multed_list = []\n",
        "    for n in lst:\n",
        "        multed_list.append(n * 2)\n",
        "    return multed_list\n",
        "\n",
        "response = mult_by_2([2,4,6])\n",
        "print(response)\n",
        "\n",
        "\n",
        "# using map()\n",
        "\n",
        "def mult_by_2_map(lst):\n",
        "    return lst * 2\n",
        "\n",
        "response = list(map(mult_by_2_map, [2,4,6]))\n",
        "print(response)\n"
      ]
    },
    {
      "cell_type": "markdown",
      "source": [
        "filter()"
      ],
      "metadata": {
        "id": "_srtubZuBaYY"
      }
    },
    {
      "cell_type": "code",
      "source": [
        "n_list = [2,4,6,7,9]\n",
        "def get_odd_numbers(data):\n",
        "    odd_numbers = []\n",
        "    for d in data:\n",
        "        if d % 2 != 0:\n",
        "            odd_numbers.append(d)\n",
        "    return odd_numbers\n",
        "response = get_odd_numbers(n_list)\n",
        "print(f\"regular function: {response}\")\n",
        "# filter()\n",
        "\n",
        "def filter_odd_numbers(data):\n",
        "    return data % 2 != 0\n",
        "response = list(filter(filter_odd_numbers, n_list))\n",
        "print(f\"filter function: {response}\")\n",
        "\n"
      ],
      "metadata": {
        "colab": {
          "base_uri": "https://localhost:8080/"
        },
        "id": "s9E2j7CdBce-",
        "outputId": "dada940b-64ca-49f4-910c-a4477051ea3a"
      },
      "execution_count": null,
      "outputs": [
        {
          "output_type": "stream",
          "name": "stdout",
          "text": [
            "regular function: [7, 9]\n",
            "filter function: [7, 9]\n"
          ]
        }
      ]
    },
    {
      "cell_type": "markdown",
      "source": [
        "zip()"
      ],
      "metadata": {
        "id": "WBtjUFZ4F4Z4"
      }
    },
    {
      "cell_type": "code",
      "source": [
        "list_even = [2,4,6,8,10]\n",
        "list_odd = [1,3,5,7,9]\n",
        "\n",
        "response = list(zip(list_odd, list_even))\n",
        "print(response)\n",
        "\n",
        "list_of_nums = [1,1,5,5,10,10]\n",
        "response = list(zip(list_of_nums))\n",
        "print(response)\n"
      ],
      "metadata": {
        "colab": {
          "base_uri": "https://localhost:8080/"
        },
        "id": "nc81FOJuF68a",
        "outputId": "72f1f51a-3347-4762-f4f1-d7f3f5601b6b"
      },
      "execution_count": null,
      "outputs": [
        {
          "output_type": "stream",
          "name": "stdout",
          "text": [
            "[(1, 2), (3, 4), (5, 6), (7, 8), (9, 10)]\n",
            "[(1, 1), (1, 1), (5, 5), (5, 5), (10, 10), (10, 10)]\n"
          ]
        }
      ]
    },
    {
      "cell_type": "markdown",
      "source": [
        "add adjacent"
      ],
      "metadata": {
        "id": "6wk4jnXmIQG1"
      }
    },
    {
      "cell_type": "code",
      "source": [
        "list_of_nums = [1,1,5,5,10,10]\n",
        "\n",
        "print(\"The original list is : \" + str(list_of_nums))\n",
        "\n",
        "# using for loop to compute consecutive overlapping summation\n",
        "length = len(list_of_nums)\n",
        "# res = [test_list[i] + test_list[(i+1) % n] for i in range(n)]\n",
        "\n",
        "# printing result\n",
        "# print(\"The Consecutive overlapping Summation : \" + str(res))\n",
        "\n",
        "# response = list(zip(list_of_nums))\n",
        "# print(response)"
      ],
      "metadata": {
        "colab": {
          "base_uri": "https://localhost:8080/"
        },
        "id": "PxbCnTDTITTm",
        "outputId": "ab2353f9-cd88-44a3-c568-9c75cfaa51d4"
      },
      "execution_count": null,
      "outputs": [
        {
          "output_type": "stream",
          "name": "stdout",
          "text": [
            "The original list is : [1, 1, 5, 5, 10, 10]\n"
          ]
        }
      ]
    },
    {
      "cell_type": "markdown",
      "source": [],
      "metadata": {
        "id": "5zMx6-2bORjP"
      }
    },
    {
      "cell_type": "code",
      "source": [
        "lst = [1,2,3,4,5,6,7,8,9,10]\n",
        "\n",
        "count = 0\n",
        "\n",
        "for i in lst:\n",
        "    count = count + i\n",
        "print(count)"
      ],
      "metadata": {
        "colab": {
          "base_uri": "https://localhost:8080/"
        },
        "id": "Noe-fFa8gCXQ",
        "outputId": "3197d65f-d96a-418e-c28d-bea6183605d5"
      },
      "execution_count": null,
      "outputs": [
        {
          "output_type": "stream",
          "name": "stdout",
          "text": [
            "55\n"
          ]
        }
      ]
    }
  ]
}