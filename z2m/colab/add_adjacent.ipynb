{
  "nbformat": 4,
  "nbformat_minor": 0,
  "metadata": {
    "colab": {
      "provenance": []
    },
    "kernelspec": {
      "name": "python3",
      "display_name": "Python 3"
    },
    "language_info": {
      "name": "python"
    }
  },
  "cells": [
    {
      "cell_type": "code",
      "execution_count": null,
      "metadata": {
        "colab": {
          "base_uri": "https://localhost:8080/"
        },
        "id": "CXjX_pQEplqN",
        "outputId": "41fafdb4-df9c-43d3-a53e-0ab748d345e5"
      },
      "outputs": [
        {
          "output_type": "stream",
          "name": "stdout",
          "text": [
            "[1]\n",
            "[11]\n",
            "[2]\n",
            "[22]\n",
            "[3]\n",
            "[33]\n",
            "[4]\n",
            "[44]\n",
            "[5]\n"
          ]
        }
      ],
      "source": [
        "nums = [1,11,2,22,3,33,4,44,5,55,]\n",
        "every_first_element = nums[0::2]\n",
        "every_second_element = nums[1::2]\n",
        "# print(every_first_element)\n",
        "# print(every_second_element)\n",
        "\n",
        "zipper = list(zip(every_first_element, every_second_element))\n",
        "# print(zipper)\n",
        "\n",
        "# for k, v in enumerate(nums):\n",
        "    # print(k)\n",
        "    # print(k+1)\n",
        "\n",
        "for i in range(len(nums)-1):\n",
        "    x_list = []\n",
        "    y_list = []\n",
        "    x = nums[i]\n",
        "    x_list.append(x)\n",
        "    y = nums[i+1]\n",
        "    y_list.append(y)\n",
        "    # print (x,y, x + y)\n",
        "    print(x_list)\n",
        "    xy_list = zip(x_list, y_list)\n",
        "    # print(list(xy_list))\n",
        "\n",
        "\n",
        "\n",
        "\n"
      ]
    },
    {
      "cell_type": "code",
      "source": [
        "nums = [1,11,2,22,3,33,4,44,5,55]\n",
        "\n",
        "x_list = []\n",
        "y_list = []\n",
        "summed_list = []\n",
        "for i in range(len(nums)-1):\n",
        "    summed = nums[i] + nums[i+1]\n",
        "    x_list.append(nums[i])\n",
        "    y_list.append(nums[i+1])\n",
        "    summed_list.append(summed)\n",
        "print(summed_list)\n",
        "print(x_list, y_list)\n",
        "\n",
        "\n",
        "\n"
      ],
      "metadata": {
        "colab": {
          "base_uri": "https://localhost:8080/"
        },
        "id": "JDC35BakhvSV",
        "outputId": "ba883832-c38b-444c-cc4a-b5e39cfc93a9"
      },
      "execution_count": null,
      "outputs": [
        {
          "output_type": "stream",
          "name": "stdout",
          "text": [
            "[12, 13, 24, 25, 36, 37, 48, 49, 60]\n",
            "[1, 11, 2, 22, 3, 33, 4, 44, 5] [11, 2, 22, 3, 33, 4, 44, 5, 55]\n"
          ]
        }
      ]
    },
    {
      "cell_type": "code",
      "source": [],
      "metadata": {
        "id": "JplWUSc-8pHT"
      },
      "execution_count": null,
      "outputs": []
    },
    {
      "cell_type": "code",
      "source": [],
      "metadata": {
        "colab": {
          "base_uri": "https://localhost:8080/",
          "height": 409
        },
        "id": "OANfYmt9x7w2",
        "outputId": "aff851a9-1aaa-4f60-9ec9-2e7b18390956"
      },
      "execution_count": null,
      "outputs": [
        {
          "output_type": "stream",
          "name": "stdout",
          "text": [
            "0 1\n",
            "1 11\n",
            "2 2\n",
            "3 22\n",
            "4 3\n",
            "5 33\n",
            "6 4\n",
            "7 44\n",
            "8 5\n",
            "9 55\n"
          ]
        },
        {
          "output_type": "error",
          "ename": "TypeError",
          "evalue": "ignored",
          "traceback": [
            "\u001b[0;31m---------------------------------------------------------------------------\u001b[0m",
            "\u001b[0;31mTypeError\u001b[0m                                 Traceback (most recent call last)",
            "\u001b[0;32m<ipython-input-45-648718825211>\u001b[0m in \u001b[0;36m<cell line: 12>\u001b[0;34m()\u001b[0m\n\u001b[1;32m     10\u001b[0m     \u001b[0mprint\u001b[0m\u001b[0;34m(\u001b[0m\u001b[0mkey\u001b[0m\u001b[0;34m,\u001b[0m \u001b[0mvalue\u001b[0m\u001b[0;34m)\u001b[0m\u001b[0;34m\u001b[0m\u001b[0;34m\u001b[0m\u001b[0m\n\u001b[1;32m     11\u001b[0m \u001b[0;34m\u001b[0m\u001b[0m\n\u001b[0;32m---> 12\u001b[0;31m \u001b[0;32mfor\u001b[0m \u001b[0mkey\u001b[0m\u001b[0;34m,\u001b[0m \u001b[0mvalue\u001b[0m \u001b[0;32min\u001b[0m \u001b[0menumerate\u001b[0m\u001b[0;34m(\u001b[0m\u001b[0mlen\u001b[0m\u001b[0;34m(\u001b[0m\u001b[0mnums\u001b[0m\u001b[0;34m-\u001b[0m\u001b[0;36m1\u001b[0m\u001b[0;34m)\u001b[0m\u001b[0;34m)\u001b[0m\u001b[0;34m:\u001b[0m\u001b[0;34m\u001b[0m\u001b[0;34m\u001b[0m\u001b[0m\n\u001b[0m\u001b[1;32m     13\u001b[0m     \u001b[0mprint\u001b[0m\u001b[0;34m(\u001b[0m\u001b[0mkey\u001b[0m\u001b[0;34m,\u001b[0m \u001b[0mvalue\u001b[0m\u001b[0;34m)\u001b[0m\u001b[0;34m\u001b[0m\u001b[0;34m\u001b[0m\u001b[0m\n\u001b[1;32m     14\u001b[0m \u001b[0;34m\u001b[0m\u001b[0m\n",
            "\u001b[0;31mTypeError\u001b[0m: unsupported operand type(s) for -: 'list' and 'int'"
          ]
        }
      ]
    }
  ]
}