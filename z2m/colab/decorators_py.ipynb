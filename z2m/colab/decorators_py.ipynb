{
  "nbformat": 4,
  "nbformat_minor": 0,
  "metadata": {
    "colab": {
      "provenance": []
    },
    "kernelspec": {
      "name": "python3",
      "display_name": "Python 3"
    },
    "language_info": {
      "name": "python"
    }
  },
  "cells": [
    {
      "cell_type": "code",
      "execution_count": 9,
      "metadata": {
        "colab": {
          "base_uri": "https://localhost:8080/"
        },
        "id": "IYhRiPoRPJwF",
        "outputId": "9925a50e-4481-43c4-d082-712e102f2680"
      },
      "outputs": [
        {
          "output_type": "stream",
          "name": "stdout",
          "text": [
            "wrapper function\n",
            "Hello Steve\n",
            "arg_in\n"
          ]
        }
      ],
      "source": [
        "def a_decorator(arg_in):\n",
        "    def wrapper_function():\n",
        "        print('wrapper function')\n",
        "        arg_in()\n",
        "        print('arg_in')\n",
        "    return wrapper_function\n",
        "\n",
        "\n",
        "def greeting():\n",
        "    print(\"Hello Steve\")\n",
        "# greeting()\n",
        "response = a_decorator(greeting) # this is what is happening\n",
        "# if we print response we get the object...\n",
        "response()  # we call it"
      ]
    },
    {
      "cell_type": "markdown",
      "source": [
        "as a decorator..."
      ],
      "metadata": {
        "id": "E2kgwpDxTxNo"
      }
    },
    {
      "cell_type": "code",
      "execution_count": 10,
      "metadata": {
        "colab": {
          "base_uri": "https://localhost:8080/"
        },
        "outputId": "975b1184-1777-464f-edbe-776991880054",
        "id": "9lju7VruXPUl"
      },
      "outputs": [
        {
          "output_type": "stream",
          "name": "stdout",
          "text": [
            "wrapper function\n",
            "Hello Steve\n",
            "arg_in\n"
          ]
        }
      ],
      "source": [
        "def a_decorator(arg_in):\n",
        "    def wrapper_function():\n",
        "        print('wrapper function')\n",
        "        arg_in()\n",
        "        print('arg_in')\n",
        "    return wrapper_function\n",
        "\n",
        "@a_decorator\n",
        "def greeting():\n",
        "    print(\"Hello Steve\")\n",
        "\n",
        "greeting()\n"
      ]
    },
    {
      "cell_type": "code",
      "source": [],
      "metadata": {
        "id": "ohhEQUWpZk1x"
      },
      "execution_count": null,
      "outputs": []
    },
    {
      "cell_type": "code",
      "execution_count": 14,
      "metadata": {
        "colab": {
          "base_uri": "https://localhost:8080/"
        },
        "outputId": "f870bef6-6c31-447c-ec97-dd9d85e87846",
        "id": "KTIQqSwfZmDb"
      },
      "outputs": [
        {
          "output_type": "stream",
          "name": "stdout",
          "text": [
            "wrapper function\n",
            "this text reps the hello argument\n",
            "arg_in\n"
          ]
        }
      ],
      "source": [
        "def a_decorator(arg_in):\n",
        "    def wrapper_function(hello):\n",
        "        print('wrapper function')\n",
        "        arg_in(hello)\n",
        "        print('arg_in')\n",
        "    return wrapper_function\n",
        "\n",
        "@a_decorator\n",
        "def greeting(hello):\n",
        "    print(hello)\n",
        "\n",
        "greeting(\"this text reps the hello argument\")\n"
      ]
    },
    {
      "cell_type": "markdown",
      "source": [
        "calling with arg and kwargs"
      ],
      "metadata": {
        "id": "dp1ExFGPbkO8"
      }
    },
    {
      "cell_type": "code",
      "source": [],
      "metadata": {
        "id": "yodUckfvbpxR"
      },
      "execution_count": null,
      "outputs": []
    },
    {
      "cell_type": "code",
      "execution_count": 30,
      "metadata": {
        "colab": {
          "base_uri": "https://localhost:8080/"
        },
        "outputId": "7ba4d606-84ba-4aa8-b892-3175c772c680",
        "id": "pH9l9xdFbqvV"
      },
      "outputs": [
        {
          "output_type": "stream",
          "name": "stdout",
          "text": [
            "wrapper function\n",
            "hello Steve\n",
            "********\n"
          ]
        }
      ],
      "source": [
        "def a_decorator(arg_in):\n",
        "    def wrapper_function(*args, **kwargs):\n",
        "        print('wrapper function')\n",
        "        arg_in(*args, **kwargs)\n",
        "        print(\"********\")\n",
        "    return wrapper_function\n",
        "\n",
        "@a_decorator\n",
        "def greeting(hello, key1=\"Steve\"):\n",
        "    print(hello, key1)\n",
        "\n",
        "greeting(\"hello\")\n"
      ]
    }
  ]
}