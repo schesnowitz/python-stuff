{
  "nbformat": 4,
  "nbformat_minor": 0,
  "metadata": {
    "colab": {
      "provenance": []
    },
    "kernelspec": {
      "name": "python3",
      "display_name": "Python 3"
    },
    "language_info": {
      "name": "python"
    }
  },
  "cells": [
    {
      "cell_type": "code",
      "execution_count": null,
      "metadata": {
        "colab": {
          "base_uri": "https://localhost:8080/"
        },
        "id": "pDbDUjDf3K69",
        "outputId": "9cf680ef-c06f-4195-f9b9-9a26ff882c2e"
      },
      "outputs": [
        {
          "output_type": "stream",
          "name": "stdout",
          "text": [
            "[True, False, True, False, True, False, True, False, True, False]\n",
            "[1, 3, 5, 7, 9]\n"
          ]
        }
      ],
      "source": [
        "# filter()\n",
        "\n",
        "\n",
        "\n",
        "def return_odd_numbers(numbs):\n",
        "    odd = []\n",
        "    for n in numbs:\n",
        "        n = n % 2 != 0\n",
        "        odd.append(n)\n",
        "\n",
        "    return odd\n",
        "\n",
        "def return_odd_numbers_filter(nums):\n",
        "    return nums % 2 != 0\n",
        "\n",
        "print(return_odd_numbers([1,2,3,4,5,6,7,8,9,10]))\n",
        "print(list(filter(return_odd_numbers_filter, [1,2,3,4,5,6,7,8,9,10])))\n"
      ]
    }
  ]
}