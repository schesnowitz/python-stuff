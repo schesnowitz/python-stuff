{
  "nbformat": 4,
  "nbformat_minor": 0,
  "metadata": {
    "colab": {
      "provenance": []
    },
    "kernelspec": {
      "name": "python3",
      "display_name": "Python 3"
    },
    "language_info": {
      "name": "python"
    }
  },
  "cells": [
    {
      "cell_type": "code",
      "execution_count": null,
      "metadata": {
        "colab": {
          "base_uri": "https://localhost:8080/"
        },
        "id": "5xDJx_7ZNkiF",
        "outputId": "5cc7810e-6392-4295-aa3b-c6e77b988658"
      },
      "outputs": [
        {
          "output_type": "stream",
          "name": "stdout",
          "text": [
            "['H', 'e', 'l', 'l', 'o']\n",
            "['h', 'e', 'l', 'l', 'o']\n",
            "[0, 1, 2, 3, 4, 5, 6, 7, 8, 9, 10, 11, 12, 13, 14, 15, 16, 17, 18, 19, 20, 21, 22, 23, 24, 25, 26, 27, 28, 29, 30, 31, 32, 33, 34, 35, 36, 37, 38, 39, 40, 41, 42, 43, 44, 45, 46, 47, 48, 49, 50, 51, 52, 53, 54, 55, 56, 57, 58, 59, 60, 61, 62, 63, 64, 65, 66, 67, 68, 69, 70, 71, 72, 73, 74, 75, 76, 77, 78, 79, 80, 81, 82, 83, 84, 85, 86, 87, 88, 89, 90, 91, 92, 93, 94, 95, 96, 97, 98, 99]\n",
            "---------------\n",
            "[0, 2, 4, 6, 8, 10, 12, 14, 16, 18, 20, 22, 24, 26, 28, 30, 32, 34, 36, 38, 40, 42, 44, 46, 48, 50, 52, 54, 56, 58, 60, 62, 64, 66, 68, 70, 72, 74, 76, 78, 80, 82, 84, 86, 88, 90, 92, 94, 96, 98, 100, 102, 104, 106, 108, 110, 112, 114, 116, 118, 120, 122, 124, 126, 128, 130, 132, 134, 136, 138, 140, 142, 144, 146, 148, 150, 152, 154, 156, 158, 160, 162, 164, 166, 168, 170, 172, 174, 176, 178, 180, 182, 184, 186, 188, 190, 192, 194, 196, 198]\n",
            "---------------\n",
            "[0, 1, 4, 9, 16, 25, 36, 49, 64, 81, 100, 121, 144, 169, 196, 225, 256, 289, 324, 361, 400, 441, 484, 529, 576, 625, 676, 729, 784, 841, 900, 961, 1024, 1089, 1156, 1225, 1296, 1369, 1444, 1521, 1600, 1681, 1764, 1849, 1936, 2025, 2116, 2209, 2304, 2401, 2500, 2601, 2704, 2809, 2916, 3025, 3136, 3249, 3364, 3481, 3600, 3721, 3844, 3969, 4096, 4225, 4356, 4489, 4624, 4761, 4900, 5041, 5184, 5329, 5476, 5625, 5776, 5929, 6084, 6241, 6400, 6561, 6724, 6889, 7056, 7225, 7396, 7569, 7744, 7921, 8100, 8281, 8464, 8649, 8836, 9025, 9216, 9409, 9604, 9801]\n",
            "1\n",
            "100\n",
            "---------------\n",
            "[0, 4, 16, 36, 64, 100, 144, 196, 256, 324, 400, 484, 576, 676, 784, 900, 1024, 1156, 1296, 1444, 1600, 1764, 1936, 2116, 2304, 2500, 2704, 2916, 3136, 3364, 3600, 3844, 4096, 4356, 4624, 4900, 5184, 5476, 5776, 6084, 6400, 6724, 7056, 7396, 7744, 8100, 8464, 8836, 9216, 9604]\n",
            "1\n",
            "50\n"
          ]
        }
      ],
      "source": [
        "lst = []\n",
        "\n",
        "for chr in 'Hello':\n",
        "    lst.append(chr)\n",
        "print(lst)\n",
        "\n",
        "lst_comp = [item for item in \"hello\"]\n",
        "print(lst_comp)\n",
        "\n",
        "lst_range = [item for item in range(0,100)]\n",
        "print(lst_range)\n",
        "print('---------------')\n",
        "lst_range = [item*2 for item in range(0,100)]\n",
        "print(lst_range)\n",
        "print('---------------')\n",
        "lst_range = [item*item for item in range(0,100)]\n",
        "print(lst_range)\n",
        "print(lst_range.count(100))\n",
        "print(len(lst_range))\n",
        "print('---------------')\n",
        "lst_range = [item*item for item in range(0,100) if item % 2 == 0]\n",
        "print(lst_range)\n",
        "print(lst_range.count(100))\n",
        "print(len(lst_range))"
      ]
    },
    {
      "cell_type": "markdown",
      "source": [
        "to do sets just change to {}\n",
        "dicts"
      ],
      "metadata": {
        "id": "yMseCZj-UXXb"
      }
    },
    {
      "cell_type": "code",
      "source": [
        "my_dict = {\n",
        "    'steve':51,\n",
        "    'driver':1\n",
        "}\n",
        "\n",
        "comp = {key:value**2 for key, value in my_dict.items()}\n",
        "print(comp)"
      ],
      "metadata": {
        "colab": {
          "base_uri": "https://localhost:8080/"
        },
        "id": "KddIExniUeJu",
        "outputId": "f7a22a0e-ceff-4987-9a63-c6bcb87512b0"
      },
      "execution_count": null,
      "outputs": [
        {
          "output_type": "stream",
          "name": "stdout",
          "text": [
            "{'steve': 2601, 'driver': 1}\n"
          ]
        }
      ]
    },
    {
      "cell_type": "code",
      "source": [
        "comp = {num:num*2 for num in [1,2,3]}\n",
        "print(comp)"
      ],
      "metadata": {
        "colab": {
          "base_uri": "https://localhost:8080/"
        },
        "id": "oBjHjZ_cWUZK",
        "outputId": "bfbad768-a199-48dd-f3c2-28536cb9cd4c"
      },
      "execution_count": null,
      "outputs": [
        {
          "output_type": "stream",
          "name": "stdout",
          "text": [
            "{1: 2, 2: 4, 3: 6}\n"
          ]
        }
      ]
    },
    {
      "cell_type": "code",
      "source": [
        "name = \"S t e p h e n C h e s n o w i t z\"\n",
        "split_name = name.split()\n",
        "print(split_name)\n",
        "\n",
        "duplicates = []\n",
        "for letter in split_name:\n",
        "    if split_name.count(letter) > 1:\n",
        "        duplicates.append(letter)\n",
        "print(duplicates)\n",
        "print(duplicates.count('t'))\n",
        "\n",
        "dup = list(set(let for let in split_name if split_name.count(let) > 1))\n",
        "print(dup)\n"
      ],
      "metadata": {
        "colab": {
          "base_uri": "https://localhost:8080/"
        },
        "id": "2gZJr1bnJcmD",
        "outputId": "f3d32038-f6e4-4c43-a0af-181fe3631245"
      },
      "execution_count": 13,
      "outputs": [
        {
          "output_type": "stream",
          "name": "stdout",
          "text": [
            "['S', 't', 'e', 'p', 'h', 'e', 'n', 'C', 'h', 'e', 's', 'n', 'o', 'w', 'i', 't', 'z']\n",
            "['t', 'e', 'h', 'e', 'n', 'h', 'e', 'n', 't']\n",
            "2\n",
            "['e', 't', 'h', 'n']\n"
          ]
        }
      ]
    }
  ]
}