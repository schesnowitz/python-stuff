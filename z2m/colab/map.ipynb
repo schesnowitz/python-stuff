{
  "nbformat": 4,
  "nbformat_minor": 0,
  "metadata": {
    "colab": {
      "provenance": []
    },
    "kernelspec": {
      "name": "python3",
      "display_name": "Python 3"
    },
    "language_info": {
      "name": "python"
    }
  },
  "cells": [
    {
      "cell_type": "code",
      "execution_count": null,
      "metadata": {
        "colab": {
          "base_uri": "https://localhost:8080/"
        },
        "id": "guAlfBO2vyBV",
        "outputId": "d3e76ffe-547c-4c17-d8fb-8ddb78bea93d"
      },
      "outputs": [
        {
          "output_type": "stream",
          "name": "stdout",
          "text": [
            "[2, 4, 6, 2, 4, 6]\n"
          ]
        }
      ],
      "source": [
        "def mult_by_2(data_list):\n",
        "    new_data_list = []\n",
        "    for item in data_list:\n",
        "        item = item * 2\n",
        "        new_data_list.append(item)\n",
        "    return new_data_list\n",
        "print(mult_by_2([1,2,3,1,2,3]))"
      ]
    },
    {
      "cell_type": "markdown",
      "source": [
        "using map()  iterate without a loop"
      ],
      "metadata": {
        "id": "kCzcH4Gux2mK"
      }
    },
    {
      "cell_type": "code",
      "source": [
        "'''\n",
        "map(func, *iterables) --> map object\n",
        "Make an iterator that computes the function using arguments from\n",
        "each of the iterables.  Stops when the shortest iterable is exhausted.\n",
        "'''\n",
        "def mult_by_2(data_list):\n",
        "    # new_data_list = []  no need for this anymore as we take care of below\n",
        "    # for item in data_list: map takes care of iteration\n",
        "    # item = item * 2\n",
        "        # new_data_list.append(item)\n",
        "    return data_list*2\n",
        "print(map(mult_by_2, [1,2,3,4]))\n",
        "print(list(map(mult_by_2, [1,2,3,4]))) # covert to list"
      ],
      "metadata": {
        "colab": {
          "base_uri": "https://localhost:8080/"
        },
        "id": "OANfYmt9x7w2",
        "outputId": "b52b41c3-daa2-418a-9e82-c7b154ea3310"
      },
      "execution_count": null,
      "outputs": [
        {
          "output_type": "stream",
          "name": "stdout",
          "text": [
            "<map object at 0x7a1cddff38b0>\n",
            "[2, 4, 6, 8]\n"
          ]
        }
      ]
    }
  ]
}