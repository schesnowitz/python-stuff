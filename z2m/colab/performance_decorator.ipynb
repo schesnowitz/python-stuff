{
  "nbformat": 4,
  "nbformat_minor": 0,
  "metadata": {
    "colab": {
      "provenance": []
    },
    "kernelspec": {
      "name": "python3",
      "display_name": "Python 3"
    },
    "language_info": {
      "name": "python"
    }
  },
  "cells": [
    {
      "cell_type": "code",
      "execution_count": 9,
      "metadata": {
        "colab": {
          "base_uri": "https://localhost:8080/"
        },
        "id": "a2a2QszioM7X",
        "outputId": "7a28f812-ad6f-4ea5-f9af-0f35d4781c1c"
      },
      "outputs": [
        {
          "output_type": "stream",
          "name": "stdout",
          "text": [
            "Run Time = 8.277014255523682.\n"
          ]
        },
        {
          "output_type": "execute_result",
          "data": {
            "text/plain": [
              "999999990000"
            ]
          },
          "metadata": {},
          "execution_count": 9
        }
      ],
      "source": [
        "from time import time\n",
        "\n",
        "def performance(fn):\n",
        "    def wrapper(*args, **kwargs):\n",
        "        start_time = time()\n",
        "        result = fn(*args, **kwargs)\n",
        "        end_time = time()\n",
        "        total_time = end_time - start_time\n",
        "        print(f\"Run Time = {total_time}\")\n",
        "        return result\n",
        "    return wrapper\n",
        "\n",
        "\n",
        "\n",
        "@performance\n",
        "def long_run_func():\n",
        "    for i in range(100000000):\n",
        "        times_5 = i*10000\n",
        "    return times_5\n",
        "\n",
        "long_run_func()\n"
      ]
    }
  ]
}