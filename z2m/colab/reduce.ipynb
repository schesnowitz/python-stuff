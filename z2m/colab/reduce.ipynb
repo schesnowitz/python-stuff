{
  "nbformat": 4,
  "nbformat_minor": 0,
  "metadata": {
    "colab": {
      "provenance": []
    },
    "kernelspec": {
      "name": "python3",
      "display_name": "Python 3"
    },
    "language_info": {
      "name": "python"
    }
  },
  "cells": [
    {
      "cell_type": "markdown",
      "source": [
        "reduce()"
      ],
      "metadata": {
        "id": "fEmxuKlj3qzp"
      }
    },
    {
      "cell_type": "code",
      "execution_count": null,
      "metadata": {
        "colab": {
          "base_uri": "https://localhost:8080/"
        },
        "id": "BPG2tvTY3p65",
        "outputId": "43a882d1-30fa-4df5-cc50-9d53588886b6"
      },
      "outputs": [
        {
          "output_type": "stream",
          "name": "stdout",
          "text": [
            "33\n"
          ]
        }
      ],
      "source": [
        "from functools import reduce\n",
        "nums = [1,10,2,20]\n",
        "\n",
        "def some_func(argu, item):\n",
        "    return argu + item\n",
        "\n",
        "\n",
        "# takes in function, data, initial value\n",
        "r = reduce(some_func, nums, 0)\n",
        "print(r)"
      ]
    },
    {
      "cell_type": "code",
      "source": [],
      "metadata": {
        "colab": {
          "base_uri": "https://localhost:8080/"
        },
        "id": "cYuA31BY51k6",
        "outputId": "ea0483a6-c8c5-48de-f1bf-ff0d87467da5"
      },
      "execution_count": null,
      "outputs": [
        {
          "output_type": "stream",
          "name": "stdout",
          "text": [
            "3 1\n",
            "4 10\n",
            "14 2\n",
            "16 20\n",
            "36\n"
          ]
        }
      ]
    }
  ]
}