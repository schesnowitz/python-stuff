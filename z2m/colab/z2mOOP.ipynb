{
  "nbformat": 4,
  "nbformat_minor": 0,
  "metadata": {
    "colab": {
      "provenance": []
    },
    "kernelspec": {
      "name": "python3",
      "display_name": "Python 3"
    },
    "language_info": {
      "name": "python"
    }
  },
  "cells": [
    {
      "cell_type": "code",
      "execution_count": 9,
      "metadata": {
        "colab": {
          "base_uri": "https://localhost:8080/"
        },
        "id": "P4zDBaUY4NcK",
        "outputId": "8fdfefb7-ce54-4504-b3e2-ae9b9c587e6c"
      },
      "outputs": [
        {
          "output_type": "stream",
          "name": "stdout",
          "text": [
            "Driver\n",
            "Running\n"
          ]
        }
      ],
      "source": [
        "class Player:\n",
        "    def __init__(self, name):\n",
        "        self.name = name\n",
        "\n",
        "    def run(self):\n",
        "        return \"Running\"\n",
        "\n",
        "\n",
        "\n",
        "player1 = Player(name=\"Driver\")\n",
        "\n",
        "print(player1.name)\n",
        "print(player1.run())\n"
      ]
    },
    {
      "cell_type": "markdown",
      "source": [
        "@classmethod cls has access to class attributes"
      ],
      "metadata": {
        "id": "wVlKIeDOG8BD"
      }
    },
    {
      "cell_type": "code",
      "execution_count": 11,
      "metadata": {
        "colab": {
          "base_uri": "https://localhost:8080/"
        },
        "outputId": "ba24026a-e717-4229-b5dd-c55f8088b6fb",
        "id": "bpgwkxZgG_9X"
      },
      "outputs": [
        {
          "output_type": "stream",
          "name": "stdout",
          "text": [
            "3\n",
            "Running\n"
          ]
        }
      ],
      "source": [
        "class Player:\n",
        "    def __init__(self, name):\n",
        "        self.name = name\n",
        "\n",
        "    def run(self):\n",
        "        return \"Running\"\n",
        "\n",
        "    @classmethod\n",
        "    def adding(cls, num1, num2):\n",
        "        return num1 + num2\n",
        "\n",
        "\n",
        "player1 = Player(name=\"Driver\")\n",
        "\n",
        "print(player1.adding(1,2))\n",
        "print(player1.run())\n"
      ]
    },
    {
      "cell_type": "markdown",
      "source": [
        "@staticmethod  no acceess to attibutes"
      ],
      "metadata": {
        "id": "ST3bU3e9JXv3"
      }
    },
    {
      "cell_type": "code",
      "execution_count": 12,
      "metadata": {
        "colab": {
          "base_uri": "https://localhost:8080/"
        },
        "outputId": "59b16c97-0828-4c31-c825-5f52f661eb7f",
        "id": "73SQXnKeJfWN"
      },
      "outputs": [
        {
          "output_type": "stream",
          "name": "stdout",
          "text": [
            "3\n",
            "Running\n"
          ]
        }
      ],
      "source": [
        "class Player:\n",
        "    def __init__(self, name):\n",
        "        self.name = name\n",
        "\n",
        "    def run(self):\n",
        "        return \"Running\"\n",
        "    # could update a Players age by adding 2 numbers to create age\n",
        "    @classmethod\n",
        "    def adding(cls, num1, num2):\n",
        "        return num1 + num2\n",
        "\n",
        "    @staticmethod\n",
        "    def adding1(num1, num2):\n",
        "        return num1 + num2\n",
        "\n",
        "\n",
        "player1 = Player(name=\"Driver\")\n",
        "\n",
        "print(player1.adding1(1,2))\n",
        "print(player1.run())\n"
      ]
    },
    {
      "cell_type": "markdown",
      "source": [
        "Inheritance"
      ],
      "metadata": {
        "id": "p5JuUXa2RnUC"
      }
    },
    {
      "cell_type": "code",
      "source": [
        "class User():\n",
        "    # aka constructor\n",
        "    def __init__(self, name, email):\n",
        "        self.name = name\n",
        "        self.email = email\n",
        "\n",
        "    def logged_in(self):\n",
        "        print(\"user is logged in\")\n",
        "\n",
        "class Driver(User):\n",
        "    def __init__(self, passed_physical, truck_assigned, name, email):\n",
        "        # User.__init__(self, name, email)\n",
        "        super().__init__(name, email)\n",
        "        self.passed_physical = passed_physical\n",
        "        self.truck_assigned = truck_assigned\n",
        "\n",
        "\n",
        "class Dispatcher(User):\n",
        "    def __init__(self, live_loads, pending_loads):\n",
        "\n",
        "        self.live_loads = live_loads\n",
        "        self.pending_loads = pending_loads\n",
        "\n",
        "dispatcher = Dispatcher(live_loads=3, pending_loads=2)\n",
        "driver = Driver(passed_physical=True, truck_assigned='P72 Freightliner', name=\"Steve\", email=\"steve@chesnowitz.com\")\n",
        "print(dispatcher.pending_loads)\n",
        "print(driver.email)\n",
        "print(isinstance(dispatcher, User))"
      ],
      "metadata": {
        "colab": {
          "base_uri": "https://localhost:8080/"
        },
        "id": "WShLeoagRquJ",
        "outputId": "900b827e-b0cd-4969-a17e-253179b949af"
      },
      "execution_count": 25,
      "outputs": [
        {
          "output_type": "stream",
          "name": "stdout",
          "text": [
            "2\n",
            "steve@chesnowitz.com\n",
            "True\n"
          ]
        }
      ]
    },
    {
      "cell_type": "markdown",
      "source": [
        "MRO - Method Resolution Order\n"
      ],
      "metadata": {
        "id": "5Ip-_XDFmpFl"
      }
    },
    {
      "cell_type": "code",
      "source": [
        "class User():\n",
        "    # aka constructor\n",
        "    def __init__(self, name, email):\n",
        "        self.name = name\n",
        "        self.email = email\n",
        "\n",
        "    def logged_in(self):\n",
        "        print(\"user is logged in\")\n",
        "\n",
        "class Driver(User):\n",
        "    def __init__(self, passed_physical, truck_assigned, name, email):\n",
        "        # User.__init__(self, name, email)\n",
        "        super().__init__(name, email)\n",
        "        self.passed_physical = passed_physical\n",
        "        self.truck_assigned = truck_assigned\n",
        "\n",
        "\n",
        "class Dispatcher(User):\n",
        "    def __init__(self, live_loads, pending_loads, name, email):\n",
        "        User.__init__(self, name, email)\n",
        "        self.live_loads = live_loads\n",
        "        self.pending_loads = pending_loads\n",
        "\n",
        "class Manager(User):\n",
        "    def __init__(self, has_keys, name, email):\n",
        "        User.__init__(self, name, email)\n",
        "        self.has_keys = has_keys\n",
        "\n",
        "class ManagerDispatcher(Manager, Dispatcher):\n",
        "    def __init__(self, live_loads, pending_loads, has_keys, name, email):\n",
        "        super().__init__(name, email, has_keys)\n",
        "        Dispatcher.__init__(self, live_loads, pending_loads, name, email)\n",
        "\n",
        "\n",
        "manager_dis = ManagerDispatcher(name=\"steve\", has_keys=True, email=\"someemail@email.com\", live_loads=7, pending_loads=0)\n",
        "print(f\"manager: {manager_dis.live_loads}\")\n",
        "print((ManagerDispatcher.__mro__))\n"
      ],
      "metadata": {
        "colab": {
          "base_uri": "https://localhost:8080/"
        },
        "id": "nKOx7sbyqOhr",
        "outputId": "23c486cd-e990-461c-87b8-1a3d8ead660c"
      },
      "execution_count": 56,
      "outputs": [
        {
          "output_type": "stream",
          "name": "stdout",
          "text": [
            "manager: 7\n",
            "(<class '__main__.ManagerDispatcher'>, <class '__main__.Manager'>, <class '__main__.Dispatcher'>, <class '__main__.User'>, <class 'object'>)\n"
          ]
        }
      ]
    }
  ]
}