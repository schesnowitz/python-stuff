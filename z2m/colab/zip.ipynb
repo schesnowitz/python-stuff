{
  "nbformat": 4,
  "nbformat_minor": 0,
  "metadata": {
    "colab": {
      "provenance": []
    },
    "kernelspec": {
      "name": "python3",
      "display_name": "Python 3"
    },
    "language_info": {
      "name": "python"
    }
  },
  "cells": [
    {
      "cell_type": "markdown",
      "source": [
        "zip() combines lists\n",
        "\n"
      ],
      "metadata": {
        "id": "RLQ4UFO6iTZ9"
      }
    },
    {
      "cell_type": "code",
      "execution_count": null,
      "metadata": {
        "colab": {
          "base_uri": "https://localhost:8080/"
        },
        "id": "rgdK6JphgQr7",
        "outputId": "9cfc3511-43b5-435f-a9a3-77622b188703"
      },
      "outputs": [
        {
          "output_type": "stream",
          "name": "stdout",
          "text": [
            "3\n",
            "7\n",
            "11\n",
            "15\n",
            "19\n",
            "range(9, 1)\n"
          ]
        }
      ],
      "source": [
        "list_1 = [2,4,6,8,10]\n",
        "list_2 = [1,3,5,7,9]\n",
        "tups = ((list(zip(list_2, list_1))))\n",
        "for tup in tups:\n",
        "    s = sum(tup)\n",
        "    print (s)\n",
        "\n"
      ]
    }
  ]
}